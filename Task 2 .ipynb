{
 "cells": [
  {
   "cell_type": "markdown",
   "id": "340e0aa6",
   "metadata": {},
   "source": [
    "Task 2 :\n",
    "    \n",
    "    Create a program that converts temperatures between Celsius, Fahrenheit, and Kelvin scales. The program should prompt the user to input a temperature value and the original unit of measurement. It should then convert the temperature to the other two units and display the converted values to the user. For example, if the user enters a temperature of 25 degrees Celsius, the program should convert it to Fahrenheit and Kelvin, and present the converted values as outputs"
   ]
  },
  {
   "cell_type": "code",
   "execution_count": 3,
   "id": "1d07c5c4",
   "metadata": {},
   "outputs": [
    {
     "name": "stdout",
     "output_type": "stream",
     "text": [
      "Enter the temperature value: 18\n",
      "Enter the original unit (Celsius, Fahrenheit, or Kelvin): Kelvin\n",
      "18.0 Kelvin is equal to -255.14999999999998 Celsius and -427.27000000000004 Fahrenheit.\n"
     ]
    }
   ],
   "source": [
    "def celsius_to_fahrenheit(celsius):\n",
    "    return (celsius * 9/5) + 32\n",
    "\n",
    "def celsius_to_kelvin(celsius):\n",
    "    return celsius + 273.15\n",
    "\n",
    "def fahrenheit_to_celsius(fahrenheit):\n",
    "    return (fahrenheit - 32) * 5/9\n",
    "\n",
    "def fahrenheit_to_kelvin(fahrenheit):\n",
    "    return (fahrenheit + 459.67) * 5/9\n",
    "\n",
    "def kelvin_to_celsius(kelvin):\n",
    "    return kelvin - 273.15\n",
    "\n",
    "def kelvin_to_fahrenheit(kelvin):\n",
    "    return kelvin * 9/5 - 459.67\n",
    "\n",
    "def main():\n",
    "    temperature = float(input(\"Enter the temperature value: \"))\n",
    "    original_unit = input(\"Enter the original unit (Celsius, Fahrenheit, or Kelvin): \").lower()\n",
    "\n",
    "    if original_unit == 'celsius':\n",
    "        fahrenheit = celsius_to_fahrenheit(temperature)\n",
    "        kelvin = celsius_to_kelvin(temperature)\n",
    "        print(f\"{temperature} Celsius is equal to {fahrenheit} Fahrenheit and {kelvin} Kelvin.\")\n",
    "    elif original_unit == 'fahrenheit':\n",
    "        celsius = fahrenheit_to_celsius(temperature)\n",
    "        kelvin = fahrenheit_to_kelvin(temperature)\n",
    "        print(f\"{temperature} Fahrenheit is equal to {celsius} Celsius and {kelvin} Kelvin.\")\n",
    "    elif original_unit == 'kelvin':\n",
    "        celsius = kelvin_to_celsius(temperature)\n",
    "        fahrenheit = kelvin_to_fahrenheit(temperature)\n",
    "        print(f\"{temperature} Kelvin is equal to {celsius} Celsius and {fahrenheit} Fahrenheit.\")\n",
    "    else:\n",
    "        print(\"Invalid unit provided. Please enter Celsius, Fahrenheit, or Kelvin.\")\n",
    "\n",
    "if __name__ == \"__main__\":\n",
    "    main()"
   ]
  }
 ],
 "metadata": {
  "kernelspec": {
   "display_name": "Python 3 (ipykernel)",
   "language": "python",
   "name": "python3"
  },
  "language_info": {
   "codemirror_mode": {
    "name": "ipython",
    "version": 3
   },
   "file_extension": ".py",
   "mimetype": "text/x-python",
   "name": "python",
   "nbconvert_exporter": "python",
   "pygments_lexer": "ipython3",
   "version": "3.11.4"
  }
 },
 "nbformat": 4,
 "nbformat_minor": 5
}
